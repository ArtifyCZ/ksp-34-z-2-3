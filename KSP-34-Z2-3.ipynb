{
 "cells": [
  {
   "cell_type": "code",
   "execution_count": null,
   "metadata": {
    "collapsed": true
   },
   "outputs": [],
   "source": [
    "N = int(input())"
   ]
  },
  {
   "cell_type": "code",
   "execution_count": null,
   "outputs": [],
   "source": [
    "boxes = [ int(input()) for i in range(N) ]"
   ],
   "metadata": {
    "collapsed": false,
    "pycharm": {
     "name": "#%%\n"
    }
   }
  },
  {
   "cell_type": "code",
   "execution_count": null,
   "outputs": [],
   "source": [
    "from collections import defaultdict\n",
    "\n",
    "edges = defaultdict(list)\n",
    "\n",
    "lowest_val = N\n",
    "\n",
    "for index, value in enumerate(boxes):\n",
    "    if value <= lowest_val:\n",
    "        edges[-1].append(index)\n",
    "        lowest_val = value\n",
    "        pass\n",
    "\n",
    "    added = False\n",
    "\n",
    "    highest_val = -1\n",
    "\n",
    "    for j in range(index, N):\n",
    "        if value < boxes[j] and (boxes[j] < highest_val or highest_val == -1):\n",
    "            edges[index].append(j)\n",
    "            added = True\n",
    "            highest_val = boxes[j]\n",
    "            pass\n",
    "        pass\n",
    "\n",
    "    if not added:\n",
    "        edges[index].append(N)\n",
    "        pass\n",
    "    pass"
   ],
   "metadata": {
    "collapsed": false,
    "pycharm": {
     "name": "#%%\n"
    }
   }
  },
  {
   "cell_type": "code",
   "execution_count": null,
   "outputs": [],
   "source": [
    "longest_ways = [0] * (N + 1)\n",
    "\n",
    "for z, (start, end) in enumerate(sorted(edges.items())):\n",
    "    for i in end:\n",
    "        if longest_ways[i] <= longest_ways[start]:\n",
    "            longest_ways[i] = longest_ways[start] + 1\n",
    "            pass\n",
    "        pass\n",
    "    pass"
   ],
   "metadata": {
    "collapsed": false,
    "pycharm": {
     "name": "#%%\n"
    }
   }
  },
  {
   "cell_type": "code",
   "execution_count": null,
   "outputs": [],
   "source": [
    "print(max(longest_ways) - 1)"
   ],
   "metadata": {
    "collapsed": false,
    "pycharm": {
     "name": "#%%\n"
    }
   }
  }
 ],
 "metadata": {
  "kernelspec": {
   "display_name": "Python 3",
   "language": "python",
   "name": "python3"
  },
  "language_info": {
   "codemirror_mode": {
    "name": "ipython",
    "version": 2
   },
   "file_extension": ".py",
   "mimetype": "text/x-python",
   "name": "python",
   "nbconvert_exporter": "python",
   "pygments_lexer": "ipython2",
   "version": "2.7.6"
  }
 },
 "nbformat": 4,
 "nbformat_minor": 0
}